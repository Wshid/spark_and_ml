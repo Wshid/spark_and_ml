{
 "cells": [
  {
   "cell_type": "code",
   "execution_count": 1,
   "metadata": {
    "collapsed": false
   },
   "outputs": [
    {
     "name": "stdout",
     "output_type": "stream",
     "text": [
      "Populating the interactive namespace from numpy and matplotlib\n"
     ]
    },
    {
     "data": {
      "text/plain": [
       "'1,2011-01-01,1,0,1,0,0,6,0,1,0.24,0.2879,0.81,0,3,13,16'"
      ]
     },
     "execution_count": 1,
     "metadata": {},
     "output_type": "execute_result"
    }
   ],
   "source": [
    "%pylab inline\n",
    "path=\"./Bike-Sharing-Dataset/hour_noheader.csv\"\n",
    "raw_data=sc.textFile(path)\n",
    "raw_data.first()"
   ]
  },
  {
   "cell_type": "code",
   "execution_count": 3,
   "metadata": {
    "collapsed": false
   },
   "outputs": [
    {
     "data": {
      "text/plain": [
       "./Bike-Sharing-Dataset/hour_noheader.csv MapPartitionsRDD[1] at textFile at NativeMethodAccessorImpl.java:-2"
      ]
     },
     "execution_count": 3,
     "metadata": {},
     "output_type": "execute_result"
    }
   ],
   "source": [
    "raw_data.count()\n",
    "raw_data.cache()"
   ]
  },
  {
   "cell_type": "code",
   "execution_count": 4,
   "metadata": {
    "collapsed": false
   },
   "outputs": [
    {
     "name": "stdout",
     "output_type": "stream",
     "text": [
      "['1', '2011-01-01', '1', '0', '1', '0', '0', '6', '0', '1', '0.24', '0.2879', '0.81', '0', '3', '13', '16']\n",
      "17379\n"
     ]
    }
   ],
   "source": [
    "records=raw_data.map(lambda t:t.split(\",\"))\n",
    "first=records.first() #first는 records의 첫번째 데이터를 의미\n",
    "print(first)\n",
    "num_data=records.count() # num_data는 총 데이터의 수가 얼마인지 나타낸다.\n",
    "print(num_data)"
   ]
  },
  {
   "cell_type": "code",
   "execution_count": 5,
   "metadata": {
    "collapsed": false
   },
   "outputs": [
    {
     "data": {
      "text/plain": [
       "[['1',\n",
       "  '2011-01-01',\n",
       "  '1',\n",
       "  '0',\n",
       "  '1',\n",
       "  '0',\n",
       "  '0',\n",
       "  '6',\n",
       "  '0',\n",
       "  '1',\n",
       "  '0.24',\n",
       "  '0.2879',\n",
       "  '0.81',\n",
       "  '0',\n",
       "  '3',\n",
       "  '13',\n",
       "  '16'],\n",
       " ['2',\n",
       "  '2011-01-01',\n",
       "  '1',\n",
       "  '0',\n",
       "  '1',\n",
       "  '1',\n",
       "  '0',\n",
       "  '6',\n",
       "  '0',\n",
       "  '1',\n",
       "  '0.22',\n",
       "  '0.2727',\n",
       "  '0.8',\n",
       "  '0',\n",
       "  '8',\n",
       "  '32',\n",
       "  '40'],\n",
       " ['3',\n",
       "  '2011-01-01',\n",
       "  '1',\n",
       "  '0',\n",
       "  '1',\n",
       "  '2',\n",
       "  '0',\n",
       "  '6',\n",
       "  '0',\n",
       "  '1',\n",
       "  '0.22',\n",
       "  '0.2727',\n",
       "  '0.8',\n",
       "  '0',\n",
       "  '5',\n",
       "  '27',\n",
       "  '32']]"
      ]
     },
     "execution_count": 5,
     "metadata": {},
     "output_type": "execute_result"
    }
   ],
   "source": [
    "records.cache()\n",
    "records.take(3)"
   ]
  },
  {
   "cell_type": "code",
   "execution_count": 6,
   "metadata": {
    "collapsed": true
   },
   "outputs": [],
   "source": [
    "def get_mapping(rdd, idx):\n",
    "    return rdd.map(lambda f:f[idx]).distinct().zipWithIndex().collectAsMap();\n"
   ]
  },
  {
   "cell_type": "code",
   "execution_count": 7,
   "metadata": {
    "collapsed": false
   },
   "outputs": [
    {
     "name": "stdout",
     "output_type": "stream",
     "text": [
      "Mapping of first cat features colums: {'4': 0, '1': 1, '3': 2, '2': 3}\n"
     ]
    }
   ],
   "source": [
    "mappings=[get_mapping(records, i) for i in range(2,10)] # List comprehension\n",
    "# 3번째부터 10번째 특징까지 카테고리 특징을 바이너리 카테고리로 변형시킨다.\n",
    "print(\"Mapping of first cat features colums: %s\"%get_mapping(records, 2))"
   ]
  },
  {
   "cell_type": "code",
   "execution_count": 8,
   "metadata": {
    "collapsed": false
   },
   "outputs": [
    {
     "name": "stdout",
     "output_type": "stream",
     "text": [
      "{'4': 0, '1': 1, '3': 2, '2': 3}\n",
      "{'0': 0, '1': 1}\n",
      "{'10': 0, '4': 3, '5': 6, '3': 7, '2': 8, '7': 9, '1': 5, '12': 1, '8': 2, '9': 4, '11': 10, '6': 11}\n",
      "{'10': 0, '18': 14, '17': 2, '5': 15, '13': 20, '7': 19, '0': 4, '14': 9, '22': 3, '16': 11, '11': 21, '19': 13, '15': 23, '12': 1, '3': 17, '2': 18, '1': 5, '6': 22, '4': 6, '23': 16, '9': 12, '21': 10, '20': 7, '8': 8}\n",
      "{'0': 0, '1': 1}\n",
      "{'4': 0, '1': 1, '5': 4, '3': 5, '2': 6, '0': 2, '6': 3}\n",
      "{'0': 0, '1': 1}\n",
      "{'4': 0, '1': 1, '3': 2, '2': 3}\n"
     ]
    }
   ],
   "source": [
    "for i in mappings: # 각 카테고리별 인덱스 \n",
    "    print(i)"
   ]
  },
  {
   "cell_type": "code",
   "execution_count": 19,
   "metadata": {
    "collapsed": false
   },
   "outputs": [
    {
     "name": "stdout",
     "output_type": "stream",
     "text": [
      "<class 'list'>\n",
      "<class 'list'>\n"
     ]
    }
   ],
   "source": [
    "print(type(mappings))\n",
    "print(type(records.first()))\n",
    "cat_len=sum(list(map(len, mappings)))\n",
    "num_len=len(records.first()[11:15]) #12,15 번째 float 특징은 변환없이 그대로 사용\n",
    "total_len=cat_len+num_len"
   ]
  },
  {
   "cell_type": "code",
   "execution_count": 20,
   "metadata": {
    "collapsed": false
   },
   "outputs": [
    {
     "name": "stdout",
     "output_type": "stream",
     "text": [
      "cat : 57\n",
      "num : 4\n",
      "total : 61\n"
     ]
    }
   ],
   "source": [
    "print(\"cat : %d\\nnum : %d\\ntotal : %d\"%(cat_len, num_len, total_len))"
   ]
  },
  {
   "cell_type": "code",
   "execution_count": null,
   "metadata": {
    "collapsed": true
   },
   "outputs": [],
   "source": []
  }
 ],
 "metadata": {
  "kernelspec": {
   "display_name": "Python 3",
   "language": "python",
   "name": "python3"
  },
  "language_info": {
   "codemirror_mode": {
    "name": "ipython",
    "version": 3
   },
   "file_extension": ".py",
   "mimetype": "text/x-python",
   "name": "python",
   "nbconvert_exporter": "python",
   "pygments_lexer": "ipython3",
   "version": "3.4.3"
  }
 },
 "nbformat": 4,
 "nbformat_minor": 1
}
