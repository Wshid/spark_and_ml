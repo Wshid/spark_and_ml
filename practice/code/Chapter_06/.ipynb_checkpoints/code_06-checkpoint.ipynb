{
 "cells": [
  {
   "cell_type": "code",
   "execution_count": 1,
   "metadata": {
    "collapsed": false
   },
   "outputs": [
    {
     "name": "stdout",
     "output_type": "stream",
     "text": [
      "Populating the interactive namespace from numpy and matplotlib\n"
     ]
    }
   ],
   "source": [
    "%pylab inline"
   ]
  },
  {
   "cell_type": "code",
   "execution_count": 2,
   "metadata": {
    "collapsed": false
   },
   "outputs": [
    {
     "data": {
      "text/plain": [
       "'1,2011-01-01,1,0,1,0,0,6,0,1,0.24,0.2879,0.81,0,3,13,16'"
      ]
     },
     "execution_count": 2,
     "metadata": {},
     "output_type": "execute_result"
    }
   ],
   "source": [
    "path=\"/home/ubuntu/workspace/practice/code/Chapter_06/Bike-Sharing-Dataset/hour_noheader.csv\"\n",
    "raw_data=sc.textFile(path)\n",
    "raw_data.first()"
   ]
  },
  {
   "cell_type": "code",
   "execution_count": 3,
   "metadata": {
    "collapsed": false
   },
   "outputs": [
    {
     "data": {
      "text/plain": [
       "17379"
      ]
     },
     "execution_count": 3,
     "metadata": {},
     "output_type": "execute_result"
    }
   ],
   "source": [
    "raw_data.count()"
   ]
  },
  {
   "cell_type": "code",
   "execution_count": 4,
   "metadata": {
    "collapsed": false
   },
   "outputs": [
    {
     "name": "stdout",
     "output_type": "stream",
     "text": [
      "['1', '2011-01-01', '1', '0', '1', '0', '0', '6', '0', '1', '0.24', '0.2879', '0.81', '0', '3', '13', '16']\n",
      "17379\n"
     ]
    }
   ],
   "source": [
    "records=raw_data.map(lambda x: x.split(\",\"))\n",
    "first=records.first()\n",
    "print(first)\n",
    "num_data=records.count()\n",
    "print(num_data)"
   ]
  },
  {
   "cell_type": "code",
   "execution_count": 5,
   "metadata": {
    "collapsed": false
   },
   "outputs": [
    {
     "data": {
      "text/plain": [
       "PythonRDD[6] at RDD at PythonRDD.scala:48"
      ]
     },
     "execution_count": 5,
     "metadata": {},
     "output_type": "execute_result"
    }
   ],
   "source": [
    "records.cache()"
   ]
  },
  {
   "cell_type": "code",
   "execution_count": 6,
   "metadata": {
    "collapsed": false
   },
   "outputs": [
    {
     "data": {
      "text/plain": [
       "[['1',\n",
       "  '2011-01-01',\n",
       "  '1',\n",
       "  '0',\n",
       "  '1',\n",
       "  '0',\n",
       "  '0',\n",
       "  '6',\n",
       "  '0',\n",
       "  '1',\n",
       "  '0.24',\n",
       "  '0.2879',\n",
       "  '0.81',\n",
       "  '0',\n",
       "  '3',\n",
       "  '13',\n",
       "  '16'],\n",
       " ['2',\n",
       "  '2011-01-01',\n",
       "  '1',\n",
       "  '0',\n",
       "  '1',\n",
       "  '1',\n",
       "  '0',\n",
       "  '6',\n",
       "  '0',\n",
       "  '1',\n",
       "  '0.22',\n",
       "  '0.2727',\n",
       "  '0.8',\n",
       "  '0',\n",
       "  '8',\n",
       "  '32',\n",
       "  '40'],\n",
       " ['3',\n",
       "  '2011-01-01',\n",
       "  '1',\n",
       "  '0',\n",
       "  '1',\n",
       "  '2',\n",
       "  '0',\n",
       "  '6',\n",
       "  '0',\n",
       "  '1',\n",
       "  '0.22',\n",
       "  '0.2727',\n",
       "  '0.8',\n",
       "  '0',\n",
       "  '5',\n",
       "  '27',\n",
       "  '32']]"
      ]
     },
     "execution_count": 6,
     "metadata": {},
     "output_type": "execute_result"
    }
   ],
   "source": [
    "records.take(3)"
   ]
  },
  {
   "cell_type": "code",
   "execution_count": 7,
   "metadata": {
    "collapsed": true
   },
   "outputs": [],
   "source": [
    "def get_mapping(rdd, idx):\n",
    "    return rdd.map(lambda fields:fields[idx]).distinct().zipWithIndex().collectAsMap()"
   ]
  },
  {
   "cell_type": "code",
   "execution_count": 8,
   "metadata": {
    "collapsed": false
   },
   "outputs": [
    {
     "name": "stdout",
     "output_type": "stream",
     "text": [
      "Mapping of first cat features column: {'4': 0, '1': 1, '3': 2, '2': 3}\n"
     ]
    }
   ],
   "source": [
    "mappings=[get_mapping(records, i) for i in range(2,10)]\n",
    "print(\"Mapping of first cat features column: %s\"%get_mapping(records, 2))"
   ]
  },
  {
   "cell_type": "code",
   "execution_count": 9,
   "metadata": {
    "collapsed": false
   },
   "outputs": [
    {
     "name": "stdout",
     "output_type": "stream",
     "text": [
      "{'4': 0, '1': 1, '3': 2, '2': 3}\n",
      "{'0': 0, '1': 1}\n",
      "{'10': 0, '4': 3, '5': 6, '3': 7, '2': 8, '7': 9, '1': 5, '12': 1, '8': 2, '9': 4, '11': 10, '6': 11}\n",
      "{'10': 0, '18': 14, '17': 2, '5': 15, '13': 20, '7': 19, '0': 4, '14': 9, '22': 3, '16': 11, '11': 21, '19': 13, '15': 23, '12': 1, '3': 17, '2': 18, '1': 5, '6': 22, '4': 6, '23': 16, '9': 12, '21': 10, '20': 7, '8': 8}\n",
      "{'0': 0, '1': 1}\n",
      "{'4': 0, '1': 1, '5': 4, '3': 5, '2': 6, '0': 2, '6': 3}\n",
      "{'0': 0, '1': 1}\n",
      "{'4': 0, '1': 1, '3': 2, '2': 3}\n"
     ]
    }
   ],
   "source": [
    "for i in mappings:\n",
    "    print(i)"
   ]
  },
  {
   "cell_type": "markdown",
   "metadata": {},
   "source": [
    "#### 각 column(특징)별 카테코리의 수가 담겨 있음\n",
    "#### range(2,10)이라고 정의하였으므로, fields[2] ~ fields[9]까지의 총 8개의 column을 대상으로 각각 카테고리의 수가 몇이나 되는지 계산할 수 있음"
   ]
  },
  {
   "cell_type": "code",
   "execution_count": 10,
   "metadata": {
    "collapsed": false
   },
   "outputs": [
    {
     "data": {
      "text/plain": [
       "dict"
      ]
     },
     "execution_count": 10,
     "metadata": {},
     "output_type": "execute_result"
    }
   ],
   "source": [
    "type(mappings[1])"
   ]
  },
  {
   "cell_type": "code",
   "execution_count": 11,
   "metadata": {
    "collapsed": false
   },
   "outputs": [
    {
     "data": {
      "text/plain": [
       "<map at 0x7fc706274f28>"
      ]
     },
     "execution_count": 11,
     "metadata": {},
     "output_type": "execute_result"
    }
   ],
   "source": [
    "map(len, mappings[1])\n",
    "#mappings 객체 자체는 list형이며, 내부 element가 모두 dict형인 객체이다."
   ]
  },
  {
   "cell_type": "code",
   "execution_count": 12,
   "metadata": {
    "collapsed": false
   },
   "outputs": [
    {
     "data": {
      "text/plain": [
       "['0.2879', '0.81', '0', '3']"
      ]
     },
     "execution_count": 12,
     "metadata": {},
     "output_type": "execute_result"
    }
   ],
   "source": [
    "records.first()[11:15]"
   ]
  },
  {
   "cell_type": "markdown",
   "metadata": {},
   "source": [
    "4개의 실수변수는 그대로 사용할 예정,\n",
    "각각 atemp, hum, windspeed, casual을 의미하는 듯 함"
   ]
  },
  {
   "cell_type": "code",
   "execution_count": 13,
   "metadata": {
    "collapsed": false,
    "scrolled": false
   },
   "outputs": [
    {
     "name": "stdout",
     "output_type": "stream",
     "text": [
      "<class 'list'>\n",
      "[4, 2, 12, 24, 2, 7, 2, 4]\n",
      "57\n"
     ]
    }
   ],
   "source": [
    "print(type(mappings))\n",
    "print(list(map(len, mappings)))\n",
    "print(sum(list(map(len,mappings))))"
   ]
  },
  {
   "cell_type": "code",
   "execution_count": 14,
   "metadata": {
    "collapsed": false
   },
   "outputs": [
    {
     "data": {
      "text/plain": [
       "0"
      ]
     },
     "execution_count": 14,
     "metadata": {},
     "output_type": "execute_result"
    }
   ],
   "source": [
    "mappings[1]\n",
    "mappings[2]['10']\n",
    "#mapping 참조시, list형이므로 괄호로 참조후, 내부 Dict에 맞추어 키값을 입력하면,\n",
    "#해당 value값을 얻을 수 있음"
   ]
  },
  {
   "cell_type": "code",
   "execution_count": 15,
   "metadata": {
    "collapsed": false
   },
   "outputs": [],
   "source": [
    "cat_len = sum(list(map(len, mappings)))\n",
    "num_len = len(records.first()[11:15])\n",
    "total_len = num_len + cat_len"
   ]
  },
  {
   "cell_type": "code",
   "execution_count": 16,
   "metadata": {
    "collapsed": false
   },
   "outputs": [
    {
     "name": "stdout",
     "output_type": "stream",
     "text": [
      "cat : 57, num : 4, total : 61\n"
     ]
    }
   ],
   "source": [
    "print(\"cat : %d, num : %d, total : %d\"%(cat_len, num_len, total_len))"
   ]
  },
  {
   "cell_type": "code",
   "execution_count": 17,
   "metadata": {
    "collapsed": true
   },
   "outputs": [],
   "source": [
    "from pyspark.mllib.regression import LabeledPoint\n",
    "import numpy as np"
   ]
  },
  {
   "cell_type": "code",
   "execution_count": 18,
   "metadata": {
    "collapsed": false
   },
   "outputs": [],
   "source": [
    "def extract_features(record):\n",
    "    cat_vec=np.zeros(cat_len)\n",
    "    i=0\n",
    "    step=0\n",
    "    for field in record[2:9]: #record가 아마 list형태로\n",
    "        m=mappings[i] #column의 category 배열\n",
    "        idx=m[field] #record를 키로하는 값을 idx에 대입\n",
    "        cat_vec[idx+step]=1\n",
    "        i=i+1\n",
    "        step=step+len(m)\n",
    "    \n",
    "    num_vec=np.array([float(field) for field in record[10:14]])\n",
    "    return np.concatenate((cat_vec, num_vec))\n",
    "\n",
    "def extract_label(record):\n",
    "    return float(record[-1]) # -1은 마지막 변수를 의미"
   ]
  },
  {
   "cell_type": "code",
   "execution_count": 19,
   "metadata": {
    "collapsed": false
   },
   "outputs": [
    {
     "data": {
      "text/plain": [
       "{'1': 1, '2': 3, '3': 2, '4': 0}"
      ]
     },
     "execution_count": 19,
     "metadata": {},
     "output_type": "execute_result"
    }
   ],
   "source": [
    "get_mapping(records, 2)"
   ]
  },
  {
   "cell_type": "code",
   "execution_count": 20,
   "metadata": {
    "collapsed": false
   },
   "outputs": [
    {
     "name": "stdout",
     "output_type": "stream",
     "text": [
      "Raw data : ['1', '0', '1', '0', '0', '6', '0', '1', '0.24', '0.2879', '0.81', '0', '3', '13', '16']\n",
      "Label : 16.0\n",
      "Linear Model feature vector:\n",
      "[0.0,1.0,0.0,0.0,1.0,0.0,0.0,0.0,0.0,0.0,0.0,1.0,0.0,0.0,0.0,0.0,0.0,0.0,0.0,0.0,0.0,0.0,1.0,0.0,0.0,0.0,0.0,0.0,0.0,0.0,0.0,0.0,0.0,0.0,0.0,0.0,0.0,0.0,0.0,0.0,0.0,0.0,1.0,0.0,0.0,0.0,0.0,1.0,0.0,0.0,0.0,1.0,0.0,0.0,0.0,0.0,0.0,0.24,0.2879,0.81,0.0]\n",
      "Linear Model feature vector length : 61\n"
     ]
    }
   ],
   "source": [
    "data=records.map(lambda r:LabeledPoint(extract_label(r), extract_features(r)))\n",
    "first_point=data.first()\n",
    "print(\"Raw data : \"+str(first[2:]))\n",
    "print(\"Label : \"+str(first_point.label))\n",
    "print(\"Linear Model feature vector:\\n\"+str(first_point.features))\n",
    "print(\"Linear Model feature vector length : \"+str(len(first_point.features)))"
   ]
  },
  {
   "cell_type": "markdown",
   "metadata": {},
   "source": [
    "#### Linear 모델에서는 정보를 가공하여 바이너리 카테고리가 필요하지만, 의사결정모델은 주로 가공하지 않는 데이터를 처리한다.\n",
    "카테고리 특징을 바이너리 벡터 인코딩으로 변환할 필요가 없음 => 카테고리 특징 직접 사용"
   ]
  },
  {
   "cell_type": "code",
   "execution_count": 21,
   "metadata": {
    "collapsed": false
   },
   "outputs": [],
   "source": [
    "def extract_features_dt(record):\n",
    "    return np.array(list(map(float, record[2:14]))) #단순히 float 형으로 매핑한다\n",
    "## 책 내용과는 다르게 list로 묶어주어야함. map이라는 함수 객체로 매핑됨(python 3.x)\n",
    "\n",
    "data_dt = records.map(lambda r:LabeledPoint(extract_label(r), extract_features_dt(r)))"
   ]
  },
  {
   "cell_type": "code",
   "execution_count": 22,
   "metadata": {
    "collapsed": false
   },
   "outputs": [
    {
     "name": "stdout",
     "output_type": "stream",
     "text": [
      "Decision Tree feature vector: [1.0,0.0,1.0,0.0,0.0,6.0,0.0,1.0,0.24,0.2879,0.81,0.0]\n",
      "Decision Tree feature vector length : 12\n"
     ]
    }
   ],
   "source": [
    "first_point_dt=data_dt.first()\n",
    "print(\"Decision Tree feature vector: \"+str(first_point_dt.features))\n",
    "print(\"Decision Tree feature vector length : \"+str(len(first_point_dt.features)))"
   ]
  },
  {
   "cell_type": "code",
   "execution_count": 23,
   "metadata": {
    "collapsed": false
   },
   "outputs": [
    {
     "name": "stdout",
     "output_type": "stream",
     "text": [
      "Help on method train in module pyspark.mllib.regression:\n",
      "\n",
      "train(data, iterations=100, step=1.0, miniBatchFraction=1.0, initialWeights=None, regParam=0.0, regType=None, intercept=False, validateData=True, convergenceTol=0.001) method of builtins.type instance\n",
      "    Train a linear regression model using Stochastic Gradient\n",
      "    Descent (SGD). This solves the least squares regression\n",
      "    formulation\n",
      "    \n",
      "        f(weights) = 1/(2n) ||A weights - y||^2\n",
      "    \n",
      "    which is the mean squared error. Here the data matrix has n rows,\n",
      "    and the input RDD holds the set of rows of A, each with its\n",
      "    corresponding right hand side label y.\n",
      "    See also the documentation for the precise formulation.\n",
      "    \n",
      "    :param data:\n",
      "      The training data, an RDD of LabeledPoint.\n",
      "    :param iterations:\n",
      "      The number of iterations.\n",
      "      (default: 100)\n",
      "    :param step:\n",
      "      The step parameter used in SGD.\n",
      "      (default: 1.0)\n",
      "    :param miniBatchFraction:\n",
      "      Fraction of data to be used for each SGD iteration.\n",
      "      (default: 1.0)\n",
      "    :param initialWeights:\n",
      "      The initial weights.\n",
      "      (default: None)\n",
      "    :param regParam:\n",
      "      The regularizer parameter.\n",
      "      (default: 0.0)\n",
      "    :param regType:\n",
      "      The type of regularizer used for training our model.\n",
      "      Supported values:\n",
      "    \n",
      "        - \"l1\" for using L1 regularization\n",
      "        - \"l2\" for using L2 regularization\n",
      "        - None for no regularization (default)\n",
      "    :param intercept:\n",
      "      Boolean parameter which indicates the use or not of the\n",
      "      augmented representation for training data (i.e., whether bias\n",
      "      features are activated or not).\n",
      "      (default: False)\n",
      "    :param validateData:\n",
      "      Boolean parameter which indicates if the algorithm should\n",
      "      validate data before training.\n",
      "      (default: True)\n",
      "    :param convergenceTol:\n",
      "      A condition which decides iteration termination.\n",
      "      (default: 0.001)\n",
      "    \n",
      "    .. versionadded:: 0.9.0\n",
      "\n"
     ]
    }
   ],
   "source": [
    "from pyspark.mllib.regression import LinearRegressionWithSGD\n",
    "from pyspark.mllib.tree import DecisionTree\n",
    "help(LinearRegressionWithSGD.train)"
   ]
  },
  {
   "cell_type": "code",
   "execution_count": 24,
   "metadata": {
    "collapsed": false
   },
   "outputs": [],
   "source": [
    "from pyspark.mllib.linalg import SparseVector\n",
    "\n",
    "a=SparseVector(1, {2:1.0, 3:5.5})"
   ]
  },
  {
   "cell_type": "code",
   "execution_count": 25,
   "metadata": {
    "collapsed": false
   },
   "outputs": [
    {
     "data": {
      "text/plain": [
       "31.25"
      ]
     },
     "execution_count": 25,
     "metadata": {},
     "output_type": "execute_result"
    }
   ],
   "source": [
    "a.dot(a)"
   ]
  },
  {
   "cell_type": "code",
   "execution_count": 26,
   "metadata": {
    "collapsed": false
   },
   "outputs": [
    {
     "name": "stderr",
     "output_type": "stream",
     "text": [
      "/usr/local/spark/python/pyspark/mllib/regression.py:281: UserWarning: Deprecated in 2.0.0. Use ml.regression.LinearRegression.\n",
      "  warnings.warn(\"Deprecated in 2.0.0. Use ml.regression.LinearRegression.\")\n"
     ]
    }
   ],
   "source": [
    "linear_model=LinearRegressionWithSGD.train(data, iterations=10, step=0.1)"
   ]
  },
  {
   "cell_type": "markdown",
   "metadata": {},
   "source": [
    "/usr/local/spark/python/pyspark/mllib/regression.py:281: UserWarning: Deprecated in 2.0.0. Use ml.regression.LinearRegression.\n",
    "  warnings.warn(\"Deprecated in 2.0.0. Use ml.regression.LinearRegression.\")\n",
    "    에러 발생으로 인해, pyspark.ml.regression.LinearRegression을 대입 후 사용해 보기로"
   ]
  },
  {
   "cell_type": "code",
   "execution_count": 27,
   "metadata": {
    "collapsed": false
   },
   "outputs": [],
   "source": [
    "#from pyspark.ml.regression import LinearRegression\n",
    "#linear_model=LinearRegression.fit(data, iterations=10, step=0.1, intercept=False)\n",
    "#사용법이 다른듯함. train대신에 fit이라는 함수로 모델을 트레이닝 시킨다"
   ]
  },
  {
   "cell_type": "code",
   "execution_count": 28,
   "metadata": {
    "collapsed": true
   },
   "outputs": [],
   "source": [
    "true_vs_predicted=data.map(lambda p:(p.label, linear_model.predict(p.features)))"
   ]
  },
  {
   "cell_type": "code",
   "execution_count": 29,
   "metadata": {
    "collapsed": false
   },
   "outputs": [
    {
     "name": "stdout",
     "output_type": "stream",
     "text": [
      "Linear Model predictions: [(16.0, 117.89250386724846), (40.0, 116.2249612319211), (32.0, 116.02369145779235), (13.0, 115.67088016754433), (1.0, 115.56315650834317)]\n"
     ]
    }
   ],
   "source": [
    "print(\"Linear Model predictions: \"+str(true_vs_predicted.take(5)))"
   ]
  },
  {
   "cell_type": "code",
   "execution_count": 30,
   "metadata": {
    "collapsed": false
   },
   "outputs": [
    {
     "data": {
      "text/plain": [
       "list"
      ]
     },
     "execution_count": 30,
     "metadata": {},
     "output_type": "execute_result"
    }
   ],
   "source": [
    "type(true_vs_predicted.take(5))"
   ]
  },
  {
   "cell_type": "code",
   "execution_count": 31,
   "metadata": {
    "collapsed": true
   },
   "outputs": [],
   "source": [
    "dt_model=DecisionTree.trainRegressor(data_dt, {})"
   ]
  },
  {
   "cell_type": "code",
   "execution_count": 32,
   "metadata": {
    "collapsed": false
   },
   "outputs": [],
   "source": [
    "preds=dt_model.predict(data_dt.map(lambda p:p.features))\n",
    "actual=data.map(lambda d:d.label)\n",
    "true_vs_predicted_dt=actual.zip(preds)"
   ]
  },
  {
   "cell_type": "code",
   "execution_count": 33,
   "metadata": {
    "collapsed": false
   },
   "outputs": [
    {
     "name": "stdout",
     "output_type": "stream",
     "text": [
      "Decision Tree predictions : [(16.0, 54.913223140495866), (40.0, 54.913223140495866), (32.0, 53.171052631578945), (13.0, 14.284023668639053), (1.0, 14.284023668639053)]\n",
      "Decision Tree depth : 5\n",
      "Decision Tree number of nodes: 63\n"
     ]
    }
   ],
   "source": [
    "print(\"Decision Tree predictions : \"+str(true_vs_predicted_dt.take(5)))\n",
    "print(\"Decision Tree depth : \"+str(dt_model.depth()))\n",
    "print(\"Decision Tree number of nodes: \"+str(dt_model.numNodes()))"
   ]
  },
  {
   "cell_type": "code",
   "execution_count": 34,
   "metadata": {
    "collapsed": true
   },
   "outputs": [],
   "source": [
    "def squared_error(actual, pred):\n",
    "    return (pred - actual)**2\n",
    "\n",
    "def abs_error(actual, pred):\n",
    "    return np.abs(pred - actual)\n",
    "\n",
    "def squared_log_error(pred, actual):\n",
    "    return (np.log(pred + 1) - np.log(actual + 1))**2"
   ]
  },
  {
   "cell_type": "code",
   "execution_count": 35,
   "metadata": {
    "collapsed": false
   },
   "outputs": [
    {
     "name": "stdout",
     "output_type": "stream",
     "text": [
      "Linear Model - Mean Squared Error: 30679.4539\n",
      "Linear Model - Mean Absolute Error: 130.6429\n",
      "Linear Model - Root Mean Squared Log Error: 1.4653\n"
     ]
    }
   ],
   "source": [
    "mse = true_vs_predicted.map(lambda t: squared_error(t[0], t[1])).mean()\n",
    "mae = true_vs_predicted.map(lambda t: abs_error(t[0], t[1])).mean()\n",
    "rmsle = np.sqrt(true_vs_predicted.map(lambda t: squared_log_error(t[0], t[1])).mean())\n",
    "print(\"Linear Model - Mean Squared Error: %2.4f\" % mse)\n",
    "print(\"Linear Model - Mean Absolute Error: %2.4f\" % mae)\n",
    "print(\"Linear Model - Root Mean Squared Log Error: %2.4f\" % rmsle)"
   ]
  },
  {
   "cell_type": "code",
   "execution_count": 36,
   "metadata": {
    "collapsed": false
   },
   "outputs": [
    {
     "data": {
      "image/png": "[encoded data removed]",
      "text/plain": [
       "<matplotlib.figure.Figure at 0x7fc7060eb8d0>"
      ]
     },
     "metadata": {},
     "output_type": "display_data"
    }
   ],
   "source": [
    "targets=records.map(lambda r:float(r[-1])).collect()\n",
    "hist(targets, bins=40, color='lightblue', normed=True)\n",
    "fig=matplotlib.pyplot.gcf()\n",
    "fig.set_size_inches(16, 10)"
   ]
  },
  {
   "cell_type": "code",
   "execution_count": 37,
   "metadata": {
    "collapsed": false
   },
   "outputs": [
    {
     "data": {
      "image/png": "[encoded data removed]",
      "text/plain": [
       "<matplotlib.figure.Figure at 0x7fc704643160>"
      ]
     },
     "metadata": {},
     "output_type": "display_data"
    }
   ],
   "source": [
    "log_targets=records.map(lambda r:np.log(float(r[-1]))).collect() # 타켓변수의 로그화\n",
    "hist(log_targets, bins=40, color='lightblue', normed=True) #타켓변수 = 원래의 값(y)\n",
    "fig=matplotlib.pyplot.gcf()\n",
    "fig.set_size_inches(16,10)"
   ]
  },
  {
   "cell_type": "code",
   "execution_count": 38,
   "metadata": {
    "collapsed": false
   },
   "outputs": [
    {
     "data": {
      "image/png": "[encoded data removed]",
      "text/plain": [
       "<matplotlib.figure.Figure at 0x7fc704ba0cf8>"
      ]
     },
     "metadata": {},
     "output_type": "display_data"
    }
   ],
   "source": [
    "sqrt_targets=records.map(lambda r:np.sqrt(float(r[-1]))).collect()\n",
    "hist(sqrt_targets, bins=40, color='lightblue', normed=True)\n",
    "fig=matplotlib.pyplot.gcf()\n",
    "fig.set_size_inches(16,10)"
   ]
  },
  {
   "cell_type": "code",
   "execution_count": 39,
   "metadata": {
    "collapsed": false
   },
   "outputs": [
    {
     "name": "stderr",
     "output_type": "stream",
     "text": [
      "/usr/local/spark/python/pyspark/mllib/regression.py:281: UserWarning: Deprecated in 2.0.0. Use ml.regression.LinearRegression.\n",
      "  warnings.warn(\"Deprecated in 2.0.0. Use ml.regression.LinearRegression.\")\n"
     ]
    }
   ],
   "source": [
    "data_log=data.map(lambda lp:LabeledPoint(np.log(lp.label), lp.features))\n",
    "model_log=LinearRegressionWithSGD.train(data_log,iterations=10, step=0.1)"
   ]
  },
  {
   "cell_type": "code",
   "execution_count": 40,
   "metadata": {
    "collapsed": true
   },
   "outputs": [],
   "source": [
    "true_vs_predicted_log=data_log.map(lambda d:(np.exp(d.label), np.exp(model_log.predict(d.features))))"
   ]
  },
  {
   "cell_type": "code",
   "execution_count": 41,
   "metadata": {
    "collapsed": true
   },
   "outputs": [],
   "source": [
    "mse_log=true_vs_predicted_log.map(lambda t:squared_error(t[0], t[1])).mean()\n",
    "mae_log=true_vs_predicted_log.map(lambda t:abs_error(t[0], t[1])).mean()\n",
    "rmsle_log=true_vs_predicted_log.map(lambda t:squared_log_error(t[0], t[1])).mean()"
   ]
  },
  {
   "cell_type": "code",
   "execution_count": 42,
   "metadata": {
    "collapsed": false
   },
   "outputs": [
    {
     "name": "stdout",
     "output_type": "stream",
     "text": [
      "Mean Squared Error: 50685.5559\n",
      "Mean Absolute Error: 155.2955\n",
      "Root Mean Squared Log Errror: 2.3749\n",
      "Non log-transformed predictions:\n",
      "[(16.0, 117.89250386724846), (40.0, 116.2249612319211), (32.0, 116.02369145779235)]\n",
      "Log-transformed predictions:\n",
      "[(15.999999999999998, 28.080291845456212), (40.0, 26.959480191001784), (32.0, 26.654725629458021)]\n"
     ]
    }
   ],
   "source": [
    "print(\"Mean Squared Error: %2.4f\"%mse_log)\n",
    "print(\"Mean Absolute Error: %2.4f\"%mae_log)\n",
    "print(\"Root Mean Squared Log Errror: %2.4f\"%rmsle_log)\n",
    "print(\"Non log-transformed predictions:\\n\"+str(true_vs_predicted.take(3)))\n",
    "print(\"Log-transformed predictions:\\n\"+str(true_vs_predicted_log.take(3)))"
   ]
  },
  {
   "cell_type": "code",
   "execution_count": 45,
   "metadata": {
    "collapsed": false
   },
   "outputs": [
    {
     "name": "stdout",
     "output_type": "stream",
     "text": [
      "Mean Squared Error: 14781.5760\n",
      "Mean Absolute Error: 76\n",
      "Root Mean Squared Log Error: 0.4104\n",
      "Non log-transformed predictions:\n",
      "[(16.0, 54.913223140495866), (40.0, 54.913223140495866), (32.0, 53.171052631578945)]\n",
      "Log-transformed predictions:\n",
      "[(15.999999999999998, 37.530779787154508), (40.0, 37.530779787154508), (32.0, 7.2797070993907287)]\n"
     ]
    }
   ],
   "source": [
    "data_dt_log=data_dt.map(lambda d:LabeledPoint(np.log(d.label), d.features))\n",
    "dt_model_log=DecisionTree.trainRegressor(data_dt_log, {})\n",
    "preds_log=dt_model_log.predict(data_dt_log.map(lambda r:r.features))\n",
    "actual_log=data_dt_log.map(lambda p:p.label)\n",
    "\n",
    "true_vs_predicted_dt_log=actual_log.zip(preds_log).map(lambda t:(np.exp(t[0]), np.exp(t[1])))\n",
    "\n",
    "mse_log_dt=true_vs_predicted_dt_log.map(lambda p:squared_error(p[0], p[1])).mean()\n",
    "mae_log_dt=true_vs_predicted_dt_log.map(lambda p:abs_error(p[0], p[1])).mean()\n",
    "rmsle_log_dt=true_vs_predicted_dt_log.map(lambda p:squared_log_error(p[0], p[1])).mean()\n",
    "\n",
    "print(\"Mean Squared Error: %2.4f\"%mse_log_dt)\n",
    "print(\"Mean Absolute Error: %2.f\"%mae_log_dt)\n",
    "print(\"Root Mean Squared Log Error: %2.4f\"%rmsle_log_dt)\n",
    "print(\"Non log-transformed predictions:\\n\"+str(true_vs_predicted_dt.take(3)))\n",
    "print(\"Log-transformed predictions:\\n\"+str(true_vs_predicted_dt_log.take(3)))"
   ]
  },
  {
   "cell_type": "code",
   "execution_count": 46,
   "metadata": {
    "collapsed": true
   },
   "outputs": [],
   "source": [
    "data_with_idx=data.zipWithIndex().map(lambda t:(t[1], t[0]))\n",
    "test=data_with_idx.sample(False, 0.2, 42)\n",
    "train=data_with_idx.subtractByKey(test)"
   ]
  },
  {
   "cell_type": "code",
   "execution_count": 47,
   "metadata": {
    "collapsed": false
   },
   "outputs": [
    {
     "name": "stdout",
     "output_type": "stream",
     "text": [
      "Training data size : 13869\n",
      "Test data size : 3510\n",
      "Total data size : 17379\n",
      "Train + test size : 17379\n"
     ]
    }
   ],
   "source": [
    "train_data=train.map(lambda p:p[1]) #lambda(idx,p):p\n",
    "test_data=test.map(lambda t:t[1])\n",
    "train_size=train_data.count()\n",
    "test_size=test_data.count()\n",
    "print(\"Training data size : %d\"%train_size)\n",
    "print(\"Test data size : %d\"%test_size)\n",
    "print(\"Total data size : %d\"%num_data)\n",
    "print(\"Train + test size : %d\"%(train_size+test_size)) #제대로 분리되었는지 확인"
   ]
  },
  {
   "cell_type": "code",
   "execution_count": 48,
   "metadata": {
    "collapsed": true
   },
   "outputs": [],
   "source": [
    "data_with_idx_dt=data_dt.zipWithIndex().map(lambda t:(t[1], t[0]))\n",
    "test_dt=data_with_idx_dt.sample(False, 0.2, 42)\n",
    "train_dt=data_with_idx_dt.subtractByKey(test_dt)\n",
    "train_data_dt=train_dt.map(lambda p:p[1])\n",
    "test_data_dt=test_dt.map(lambda p:p[1])"
   ]
  },
  {
   "cell_type": "code",
   "execution_count": 49,
   "metadata": {
    "collapsed": true
   },
   "outputs": [],
   "source": [
    "def evaluate(train, test, iterations, step, regParam, regType, intercept):\n",
    "    model=LinearRegressionWithSGD.train(train, iterations, step, regParam=regParam, regType=regType, intercept=intercept)\n",
    "    tp=test.map(lambda p:(p.label, model.predict(p.features)))\n",
    "    rmsle=np.sqrt(tp.map(lambda t:squared_log_error(t[0], t[1])).mean())\n",
    "    return rmsle"
   ]
  },
  {
   "cell_type": "code",
   "execution_count": 50,
   "metadata": {
    "collapsed": false
   },
   "outputs": [
    {
     "name": "stderr",
     "output_type": "stream",
     "text": [
      "/usr/local/spark/python/pyspark/mllib/regression.py:281: UserWarning: Deprecated in 2.0.0. Use ml.regression.LinearRegression.\n",
      "  warnings.warn(\"Deprecated in 2.0.0. Use ml.regression.LinearRegression.\")\n"
     ]
    },
    {
     "name": "stdout",
     "output_type": "stream",
     "text": [
      "[1, 5, 10, 20, 50, 100, 200, 500, 1000]\n",
      "[2.8895751840351522, 2.0389907666484954, 1.7689106650446305, 1.5672874678333344, 1.4112887844157063, 1.3708564590941774, 1.3796853319834623, 1.3973866554007046, 1.3973866554007046]\n"
     ]
    }
   ],
   "source": [
    "#params라는 변수를 만들어 반복에 대해 테스트를 한다\n",
    "#반복을 많이 하게 되면 과연 오차값은 계속 줄어들까?\n",
    "params=[1, 5, 10, 20, 50, 100, 200, 500, 1000]\n",
    "metrics=[evaluate(train_data, test_data, param, 0.01, 0.0, 'l2', False) for param in params]\n",
    "print(params)\n",
    "print(metrics)"
   ]
  },
  {
   "cell_type": "code",
   "execution_count": 51,
   "metadata": {
    "collapsed": false
   },
   "outputs": [
    {
     "data": {
      "image/png": "[encoded data removed]",
      "text/plain": [
       "<matplotlib.figure.Figure at 0x7fc7049a7f28>"
      ]
     },
     "metadata": {},
     "output_type": "display_data"
    }
   ],
   "source": [
    "plot(params, metrics)\n",
    "fig=matplotlib.pyplot.gcf()\n",
    "pyplot.xscale('log')\n",
    "#책 내용과는 다르게 일단은 일정 수치 이상일때, 더 이상 효과 가없는 것으로 확인 되었다."
   ]
  },
  {
   "cell_type": "code",
   "execution_count": 52,
   "metadata": {
    "collapsed": false
   },
   "outputs": [
    {
     "name": "stderr",
     "output_type": "stream",
     "text": [
      "/usr/local/spark/python/pyspark/mllib/regression.py:281: UserWarning: Deprecated in 2.0.0. Use ml.regression.LinearRegression.\n",
      "  warnings.warn(\"Deprecated in 2.0.0. Use ml.regression.LinearRegression.\")\n"
     ]
    },
    {
     "name": "stdout",
     "output_type": "stream",
     "text": [
      "[0.01, 0.025, 0.05, 0.1, 1.0]\n",
      "[1.7689106650446305, 1.4109119656546196, 1.3796577774333101, 1.4580779096997893, nan]\n"
     ]
    }
   ],
   "source": [
    "#반복 단위 크기(α)\n",
    "params=[0.01, 0.025, 0.05, 0.1, 1.0]\n",
    "metrics=[evaluate(train_data, test_data, 10, param, 0.0, 'l2', False) for param in params]\n",
    "print(params)\n",
    "print(metrics)"
   ]
  },
  {
   "cell_type": "code",
   "execution_count": 53,
   "metadata": {
    "collapsed": false
   },
   "outputs": [
    {
     "data": {
      "image/png": "[encoded data removed]",
      "text/plain": [
       "<matplotlib.figure.Figure at 0x7fc7048e2be0>"
      ]
     },
     "metadata": {},
     "output_type": "display_data"
    }
   ],
   "source": [
    "plot(params, metrics)\n",
    "fig=matplotlib.pyplot.gcf()\n",
    "pyplot.xscale('log')"
   ]
  },
  {
   "cell_type": "code",
   "execution_count": 54,
   "metadata": {
    "collapsed": false
   },
   "outputs": [
    {
     "name": "stderr",
     "output_type": "stream",
     "text": [
      "/usr/local/spark/python/pyspark/mllib/regression.py:281: UserWarning: Deprecated in 2.0.0. Use ml.regression.LinearRegression.\n",
      "  warnings.warn(\"Deprecated in 2.0.0. Use ml.regression.LinearRegression.\")\n"
     ]
    },
    {
     "name": "stdout",
     "output_type": "stream",
     "text": [
      "[0.0, 0.01, 0.1, 1.0, 5.0, 10.0, 20.0]\n",
      "[1.4580779096997893, 1.4574329945186553, 1.4517403325137033, 1.4055537710502841, 1.3809678070431126, 1.5198891882336292, 1.8224536571417234]\n"
     ]
    },
    {
     "data": {
      "image/png": "[encoded data removed]",
      "text/plain": [
       "<matplotlib.figure.Figure at 0x7fc7049e7e80>"
      ]
     },
     "metadata": {},
     "output_type": "display_data"
    }
   ],
   "source": [
    "#Regparam : 규칙화에 따른 정도 변수\n",
    "#L2(ridge) Regression\n",
    "params=[0.0, 0.01, 0.1, 1.0, 5.0, 10.0, 20.0]\n",
    "metrics=[evaluate(train_data, test_data, 10, 0.1, param, 'l2',False) for param in params]\n",
    "print(params)\n",
    "print(metrics)\n",
    "plot(params, metrics)\n",
    "fig=matplotlib.pyplot.gcf() #여기 빠져도 큰 오류가 나거나 그런건 없음\n",
    "pyplot.xscale('log')"
   ]
  },
  {
   "cell_type": "code",
   "execution_count": 55,
   "metadata": {
    "collapsed": false
   },
   "outputs": [
    {
     "name": "stderr",
     "output_type": "stream",
     "text": [
      "/usr/local/spark/python/pyspark/mllib/regression.py:281: UserWarning: Deprecated in 2.0.0. Use ml.regression.LinearRegression.\n",
      "  warnings.warn(\"Deprecated in 2.0.0. Use ml.regression.LinearRegression.\")\n"
     ]
    },
    {
     "name": "stdout",
     "output_type": "stream",
     "text": [
      "[0.0, 0.01, 0.1, 1.0, 10.0, 100.0, 1000.0]\n",
      "[1.4580779096997893, 1.458043054492044, 1.4577312609446176, 1.4548207151817401, 1.4279738870738146, 1.7425548127469279, 4.7750969001089763]\n"
     ]
    },
    {
     "data": {
      "image/png": "[encoded data removed]",
      "text/plain": [
       "<matplotlib.figure.Figure at 0x7fc704c2ae48>"
      ]
     },
     "metadata": {},
     "output_type": "display_data"
    }
   ],
   "source": [
    "#L1 Regression(lasso Regression)\n",
    "params=[0.0, 0.01, 0.1, 1.0, 10.0, 100.0, 1000.0]\n",
    "metrics=[evaluate(train_data, test_data, 10, 0.1, param, 'l1', False) for param in params]\n",
    "print(params)\n",
    "print(metrics)\n",
    "plot(params, metrics)\n",
    "pyplot.xscale('log')\n",
    "#l2 보다 상대적으로 필요한 레벨은 매우 높으나, 전체적인 성능이 낮음"
   ]
  },
  {
   "cell_type": "code",
   "execution_count": 56,
   "metadata": {
    "collapsed": false
   },
   "outputs": [
    {
     "name": "stderr",
     "output_type": "stream",
     "text": [
      "/usr/local/spark/python/pyspark/mllib/regression.py:281: UserWarning: Deprecated in 2.0.0. Use ml.regression.LinearRegression.\n",
      "  warnings.warn(\"Deprecated in 2.0.0. Use ml.regression.LinearRegression.\")\n"
     ]
    }
   ],
   "source": [
    "#L1 regression는 가중치 벡터가 산발적으로 나타내게 할 수 있음\n",
    "model_l1=LinearRegressionWithSGD.train(train_data, 10, 0.1, regParam=1.0, regType=\"l1\", intercept=False)\n",
    "model_l1_10=LinearRegressionWithSGD.train(train_data, 10, 0.1, regParam=10.0, regType=\"l1\", intercept=False)\n",
    "model_l1_100=LinearRegressionWithSGD.train(train_data, 10, 0.1, regParam=100.0, regType=\"l1\", intercept=False)"
   ]
  },
  {
   "cell_type": "code",
   "execution_count": 57,
   "metadata": {
    "collapsed": false
   },
   "outputs": [
    {
     "data": {
      "text/plain": [
       "DenseVector([12.5264, 2.8526, 16.678, 13.5464, 12.9166, 33.6909, 4.8844, 1.6966, 5.1464, 3.3036, 5.2882, 0.0, 4.6513, 2.3896, 0.5997, 5.1272, 3.1667, 5.337, 1.1434, 2.8492, 7.0395, 0.2338, -0.6832, -0.9395, -1.4157, 2.263, 5.0843, 2.5945, 1.0761, 4.0328, 2.1356, 4.245, 6.5272, -1.2001, -0.2689, -1.305, -1.1792, 1.9665, 2.9048, 1.8767, -0.3811, 2.6791, 45.6855, 0.9221, 6.5515, 6.0761, 6.0488, 6.8306, 6.5193, 6.0418, 6.0289, 14.8058, 31.8018, 0.0, 0.0, 0.0, 0.0, 29.5086, 27.7728, 23.505, 9.5965])"
      ]
     },
     "execution_count": 57,
     "metadata": {},
     "output_type": "execute_result"
    }
   ],
   "source": [
    "model_l1.weights #DenseVector형으로 취합된다."
   ]
  },
  {
   "cell_type": "code",
   "execution_count": 58,
   "metadata": {
    "collapsed": false
   },
   "outputs": [
    {
     "data": {
      "text/plain": [
       "array([ 12.52640459,   2.85261546,  16.67797341,  13.54639589,\n",
       "        12.91664524,  33.69094369,   4.88438113,   1.69664439,\n",
       "         5.14643714,   3.30361912,   5.28817493,   0.        ,\n",
       "         4.65127878,   2.38959239,   0.59973903,   5.12716367,\n",
       "         3.1666576 ,   5.33704646,   1.14340028,   2.84923583,\n",
       "         7.03947112,   0.23376493,  -0.68315258,  -0.93952126,\n",
       "        -1.41574352,   2.26295339,   5.0843379 ,   2.59453162,\n",
       "         1.07607773,   4.03277571,   2.13556129,   4.24498267,\n",
       "         6.52719223,  -1.20011114,  -0.26892104,  -1.30495111,\n",
       "        -1.1792426 ,   1.96651028,   2.9048412 ,   1.8766549 ,\n",
       "        -0.38107755,   2.67910007,  45.68551238,   0.92207656,\n",
       "         6.55147783,   6.07608263,   6.04884497,   6.83064333,\n",
       "         6.51931711,   6.04178092,   6.02894319,  14.80576444,\n",
       "        31.80182449,   0.        ,   0.        ,   0.        ,\n",
       "         0.        ,  29.50862225,  27.77281912,  23.50499259,   9.59654316])"
      ]
     },
     "execution_count": 58,
     "metadata": {},
     "output_type": "execute_result"
    }
   ],
   "source": [
    "model_l1.weights.array #array형태로 변환되며 %.8f 형태인 것을 확인할 수 있다."
   ]
  },
  {
   "cell_type": "code",
   "execution_count": 59,
   "metadata": {
    "collapsed": false
   },
   "outputs": [
    {
     "data": {
      "text/plain": [
       "array([False, False, False, False, False, False, False, False, False,\n",
       "       False, False,  True, False, False, False, False, False, False,\n",
       "       False, False, False, False, False, False, False, False, False,\n",
       "       False, False, False, False, False, False, False, False, False,\n",
       "       False, False, False, False, False, False, False, False, False,\n",
       "       False, False, False, False, False, False, False, False,  True,\n",
       "        True,  True,  True, False, False, False, False], dtype=bool)"
      ]
     },
     "execution_count": 59,
     "metadata": {},
     "output_type": "execute_result"
    }
   ],
   "source": [
    "(model_l1.weights.array==0) #모든 인자가 False/True 형태로 변하게 된다."
   ]
  },
  {
   "cell_type": "code",
   "execution_count": 60,
   "metadata": {
    "collapsed": false
   },
   "outputs": [
    {
     "data": {
      "text/plain": [
       "array([False, False, False, False, False, False, False, False, False,\n",
       "       False, False,  True, False, False, False, False, False, False,\n",
       "       False, False, False, False, False, False, False, False, False,\n",
       "       False, False, False, False, False, False, False, False, False,\n",
       "       False, False, False, False, False, False, False, False, False,\n",
       "       False, False, False, False, False, False, False, False,  True,\n",
       "        True,  True,  True, False, False, False, False], dtype=bool)"
      ]
     },
     "execution_count": 60,
     "metadata": {},
     "output_type": "execute_result"
    }
   ],
   "source": [
    "model_l1.weights.array==0 # 일치하는 수만 취합하여 몇개인지 확인할 수 있음\n",
    "#array형이 아닐시에는 인자형태로 처리하지 않기때문에 정확한 값을 얻을 수 없음"
   ]
  },
  {
   "cell_type": "code",
   "execution_count": 61,
   "metadata": {
    "collapsed": false
   },
   "outputs": [
    {
     "name": "stdout",
     "output_type": "stream",
     "text": [
      "L1 zero weights : 5\n",
      "L1(10) zero weights : 33\n",
      "L1(100) zero weights : 58\n"
     ]
    }
   ],
   "source": [
    "print(\"L1 zero weights : \"+str(sum(model_l1.weights.array==0)))\n",
    "print(\"L1(10) zero weights : \"+str(sum(model_l1_10.weights.array==0)))\n",
    "print(\"L1(100) zero weights : \"+str(sum(model_l1_100.weights.array==0)))\n",
    "#L1 Regression은 변화가 큰 가중치 벡터를 제외한 나머지 벡터를 소거한다.\n",
    "#또한 규칙화 레벨이 증가할 수록, W=0인 인자가 늘어난다."
   ]
  },
  {
   "cell_type": "code",
   "execution_count": 62,
   "metadata": {
    "collapsed": false
   },
   "outputs": [
    {
     "name": "stderr",
     "output_type": "stream",
     "text": [
      "/usr/local/spark/python/pyspark/mllib/regression.py:281: UserWarning: Deprecated in 2.0.0. Use ml.regression.LinearRegression.\n",
      "  warnings.warn(\"Deprecated in 2.0.0. Use ml.regression.LinearRegression.\")\n"
     ]
    },
    {
     "name": "stdout",
     "output_type": "stream",
     "text": [
      "[True, False]\n",
      "[1.4363265851099394, 1.4055537710502841]\n"
     ]
    },
    {
     "data": {
      "text/plain": [
       "<Container object of 2 artists>"
      ]
     },
     "execution_count": 62,
     "metadata": {},
     "output_type": "execute_result"
    },
    {
     "data": {
      "image/png": "[encoded data removed]",
      "text/plain": [
       "<matplotlib.figure.Figure at 0x7fc704999940>"
      ]
     },
     "metadata": {},
     "output_type": "display_data"
    }
   ],
   "source": [
    "#Intercept, W에 적용하고, 타켓 변수의 평균값을 효과적으로 설명하는 상수 용어\n",
    "#정규화 과정을 마친 이후에는 사용할 필요가 없으나, 어떤 경우라도 한번씩은 적용해주어야 함\n",
    "\n",
    "params=[True, False]\n",
    "metrics=[evaluate(train_data, test_data, 10, 0.1, 1.0, 'l2', param) for param in params]\n",
    "print(params)\n",
    "print(metrics)\n",
    "bar(params, metrics, color='lightblue') #막대형 그래프 생성"
   ]
  },
  {
   "cell_type": "code",
   "execution_count": 65,
   "metadata": {
    "collapsed": true
   },
   "outputs": [],
   "source": [
    "# DecisionTree에 대해 모델 매개변수 값에 따라 변화를 관찰한다.\n",
    "def evaluate_dt(train, test, maxDepth, maxBins):\n",
    "    model=DecisionTree.trainRegressor(train, {}, impurity='variance', maxDepth=maxDepth, maxBins=maxBins)\n",
    "    preds=model.predict(test.map(lambda t:t.features))\n",
    "    actual=test.map(lambda t:t.label)\n",
    "    tp=actual.zip(preds)\n",
    "    rmsle=np.sqrt(tp.map(lambda t:squared_log_error(t[0], t[1])).mean())\n",
    "    return rmsle"
   ]
  },
  {
   "cell_type": "code",
   "execution_count": 68,
   "metadata": {
    "collapsed": false
   },
   "outputs": [
    {
     "name": "stdout",
     "output_type": "stream",
     "text": [
      "[1, 2, 3, 4, 5, 10, 20, 30]\n",
      "[1.474645341612014, 1.4439225955911539, 1.4040895562440876, 1.3693371526134552, 1.3160812287396264, 1.0900398288797661, 0.61902253166115839, 0.55249978267321731]\n"
     ]
    },
    {
     "data": {
      "image/png": "[encoded data removed]",
      "text/plain": [
       "<matplotlib.figure.Figure at 0x7fc7048a8ac8>"
      ]
     },
     "metadata": {},
     "output_type": "display_data"
    }
   ],
   "source": [
    "#트리 깊이에 따라 변화 여부를 관찰한다.\n",
    "#시간이 꽤나.. 걸린다\n",
    "#30 이하로 테스트 해야함 그 이상일시, 에러가 발생한다.\n",
    "params=[1,2,3,4,5,10,20,30]\n",
    "metrics=[evaluate_dt(train_data, test_data, param, 32) for param in params]\n",
    "print(params)\n",
    "print(metrics)\n",
    "plot(params, metrics)\n",
    "fig=matplotlib.pyplot.gcf() # 꼭 안써도 됨(figure 객체를 사용하지 않으므로)"
   ]
  },
  {
   "cell_type": "code",
   "execution_count": 71,
   "metadata": {
    "collapsed": false
   },
   "outputs": [
    {
     "name": "stdout",
     "output_type": "stream",
     "text": [
      "[2, 4, 6, 8, 16, 32, 64, 100, 200]\n",
      "[1.2602146459894086, 0.80428522066456365, 0.83708370522013154, 0.73956106746462436, 0.62766656648619723, 0.63620635524276747, 0.63620635524276747, 0.63620635524276747, 0.63620635524276747]\n"
     ]
    },
    {
     "data": {
      "image/png": "[encoded data removed]",
      "text/plain": [
       "<matplotlib.figure.Figure at 0x7fc7048354a8>"
      ]
     },
     "metadata": {},
     "output_type": "display_data"
    }
   ],
   "source": [
    "#최대 저장소(maxBins) 변환\n",
    "params=[2,4,6,8,16,32,64,100, 200]\n",
    "metrics=[evaluate_dt(train_data_dt, test_data_dt, 5, param) for param in params]\n",
    "print(params)\n",
    "print(metrics)\n",
    "plot(params, metrics)\n",
    "fig=matplotlib.pyplot.gcf()\n",
    "# 특성 수치에 이르면 값이 변하지 않는 것을 알 수 있다."
   ]
  },
  {
   "cell_type": "code",
   "execution_count": null,
   "metadata": {
    "collapsed": true
   },
   "outputs": [],
   "source": []
  }
 ],
 "metadata": {
  "kernelspec": {
   "display_name": "Python 3",
   "language": "python",
   "name": "python3"
  },
  "language_info": {
   "codemirror_mode": {
    "name": "ipython",
    "version": 3
   },
   "file_extension": ".py",
   "mimetype": "text/x-python",
   "name": "python",
   "nbconvert_exporter": "python",
   "pygments_lexer": "ipython3",
   "version": "3.4.3"
  }
 },
 "nbformat": 4,
 "nbformat_minor": 1
}
